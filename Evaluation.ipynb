{
 "cells": [
  {
   "metadata": {
    "ExecuteTime": {
     "end_time": "2025-07-04T16:26:21.273980Z",
     "start_time": "2025-07-04T16:26:21.099394Z"
    }
   },
   "cell_type": "code",
   "source": [
    "import joblib\n",
    "import numpy as np\n",
    "import pandas as pd\n",
    "import requests\n",
    "import shap\n",
    "from IPython.display import display\n",
    "from datetime import datetime\n",
    "import os\n",
    "import matplotlib.pyplot as plt"
   ],
   "id": "42bc864e12960899",
   "outputs": [],
   "execution_count": 5
  },
  {
   "metadata": {
    "ExecuteTime": {
     "end_time": "2025-07-04T16:26:24.515311Z",
     "start_time": "2025-07-04T16:26:23.116575Z"
    }
   },
   "cell_type": "code",
   "source": "model = joblib.load(\"best_rf_model.pkl\")",
   "id": "43baf0835d9137aa",
   "outputs": [],
   "execution_count": 6
  },
  {
   "metadata": {
    "ExecuteTime": {
     "end_time": "2025-07-04T16:32:55.407617Z",
     "start_time": "2025-07-04T16:32:47.993923Z"
    }
   },
   "cell_type": "code",
   "source": [
    "url = \"https://raw.githubusercontent.com/JanisEcker/PraxisProjekt_SAP/main/df_TestData2.csv\"\n",
    "\n",
    "# load csv\n",
    "response = requests.get(url)\n",
    "if response.status_code == 200:\n",
    "    df_TestData = pd.read_csv(url)\n",
    "else:\n",
    "    print(f\"Failed to download the file. Status code: {response.status_code}\")"
   ],
   "id": "5ee3ff9d67a1cb7e",
   "outputs": [],
   "execution_count": 9
  },
  {
   "metadata": {
    "ExecuteTime": {
     "end_time": "2025-07-04T16:35:29.830107Z",
     "start_time": "2025-07-04T16:33:03.212410Z"
    }
   },
   "cell_type": "code",
   "source": [
    "# 0️⃣ Threshold und aktuelle Timestamp definieren\n",
    "threshold = 0.75\n",
    "timestamp = datetime.now().strftime(\"%Y%m%d_%H%M%S\")\n",
    "\n",
    "# Fortlaufende Nummer ermitteln\n",
    "base_folder = \"criticalTx\"\n",
    "os.makedirs(base_folder, exist_ok=True)\n",
    "existing_runs = [name for name in os.listdir(base_folder) if os.path.isdir(os.path.join(base_folder, name))]\n",
    "run_numbers = [int(name.split(\"_\")[0]) for name in existing_runs if name.split(\"_\")[0].isdigit()]\n",
    "next_run_number = max(run_numbers, default=0) + 1\n",
    "\n",
    "# Run-Foldername generieren\n",
    "run_folder_name = f\"{next_run_number:03d}_{timestamp}\"\n",
    "\n",
    "# Ordner für kritische Transaktionen und SHAP Plots erstellen\n",
    "kritisch_folder = os.path.join(base_folder, run_folder_name)\n",
    "os.makedirs(kritisch_folder, exist_ok=True)\n",
    "\n",
    "shap_folder_base = \"shap_plots\"\n",
    "shap_folder = os.path.join(shap_folder_base, run_folder_name)\n",
    "os.makedirs(shap_folder, exist_ok=True)\n",
    "\n",
    "print(f\"📂 Speicherordner für kritische Transaktionen: {kritisch_folder}\")\n",
    "print(f\"📂 Speicherordner für SHAP Plots: {shap_folder}\")\n",
    "\n",
    "# 1️⃣ Features auswählen\n",
    "feature_columns = [col for col in df_TestData.columns if col != \"Fraud\"]\n",
    "X_new = df_TestData[feature_columns]\n",
    "\n",
    "# 2️⃣ Vorhersagen berechnen\n",
    "y_pred = model.predict(X_new)\n",
    "y_proba = model.predict_proba(X_new)[:, 1]\n",
    "\n",
    "df_TestData[\"Prediction\"] = y_pred\n",
    "df_TestData[\"Fraud_Probability\"] = y_proba\n",
    "\n",
    "# 3️⃣ Threshold anwenden\n",
    "df_TestData[\"Prediction_custom\"] = (df_TestData[\"Fraud_Probability\"] > threshold).astype(int)\n",
    "\n",
    "# 4️⃣ Kritische Fälle extrahieren\n",
    "kritische_faelle = df_TestData[df_TestData[\"Prediction_custom\"] == 1]\n",
    "print(f\"🚨 Gefundene kritische Fälle: {len(kritische_faelle)} von {len(df_TestData)}\")\n",
    "\n",
    "# 5️⃣ Kritische Fälle als CSV speichern\n",
    "kritisch_csv_path = os.path.join(kritisch_folder, \"kritische_transaktionen.csv\")\n",
    "kritische_faelle.to_csv(kritisch_csv_path, index=False)\n",
    "print(f\"💾 Kritische Transaktionen gespeichert unter: {kritisch_csv_path}\")\n",
    "\n",
    "# 6️⃣ SHAP-Barplots für kritische Fälle erzeugen und speichern\n",
    "explainer = shap.Explainer(model)\n",
    "shap_values = explainer(X_new)\n",
    "\n",
    "kritisch_idx = kritische_faelle.index\n",
    "\n",
    "for i in kritisch_idx:\n",
    "    plt.figure(figsize=(8, 6))\n",
    "    shap.plots.bar(shap_values[i], show=False)\n",
    "    plt.title(f\"SHAP Barplot – Transaktion {i} (Proba: {df_TestData.loc[i, 'Fraud_Probability']:.2f})\")\n",
    "    plot_path = os.path.join(shap_folder, f\"shap_barplot_{i}.png\")\n",
    "    plt.savefig(plot_path, bbox_inches='tight')\n",
    "    plt.close()\n",
    "    print(f\"✅ SHAP-Plot gespeichert: {plot_path}\")\n",
    "\n",
    "print(\"✅ Workflow abgeschlossen.\")"
   ],
   "id": "10e8fa8f14fe72d0",
   "outputs": [
    {
     "name": "stdout",
     "output_type": "stream",
     "text": [
      "📂 Speicherordner für kritische Transaktionen: criticalTx\\002_20250704_183303\n",
      "📂 Speicherordner für SHAP Plots: shap_plots\\002_20250704_183303\n",
      "🚨 Gefundene kritische Fälle: 5 von 100\n",
      "💾 Kritische Transaktionen gespeichert unter: criticalTx\\002_20250704_183303\\kritische_transaktionen.csv\n"
     ]
    },
    {
     "ename": "TypeError",
     "evalue": "'numpy.float64' object is not iterable",
     "output_type": "error",
     "traceback": [
      "\u001B[31m---------------------------------------------------------------------------\u001B[39m",
      "\u001B[31mTypeError\u001B[39m                                 Traceback (most recent call last)",
      "\u001B[36mCell\u001B[39m\u001B[36m \u001B[39m\u001B[32mIn[10]\u001B[39m\u001B[32m, line 57\u001B[39m\n\u001B[32m     55\u001B[39m \u001B[38;5;28;01mfor\u001B[39;00m i \u001B[38;5;129;01min\u001B[39;00m kritisch_idx:\n\u001B[32m     56\u001B[39m     plt.figure(figsize=(\u001B[32m8\u001B[39m, \u001B[32m6\u001B[39m))\n\u001B[32m---> \u001B[39m\u001B[32m57\u001B[39m     \u001B[43mshap\u001B[49m\u001B[43m.\u001B[49m\u001B[43mplots\u001B[49m\u001B[43m.\u001B[49m\u001B[43mbar\u001B[49m\u001B[43m(\u001B[49m\u001B[43mshap_values\u001B[49m\u001B[43m[\u001B[49m\u001B[43mi\u001B[49m\u001B[43m]\u001B[49m\u001B[43m,\u001B[49m\u001B[43m \u001B[49m\u001B[43mshow\u001B[49m\u001B[43m=\u001B[49m\u001B[38;5;28;43;01mFalse\u001B[39;49;00m\u001B[43m)\u001B[49m\n\u001B[32m     58\u001B[39m     plt.title(\u001B[33mf\u001B[39m\u001B[33m\"\u001B[39m\u001B[33mSHAP Barplot – Transaktion \u001B[39m\u001B[38;5;132;01m{\u001B[39;00mi\u001B[38;5;132;01m}\u001B[39;00m\u001B[33m (Proba: \u001B[39m\u001B[38;5;132;01m{\u001B[39;00mdf_TestData.loc[i,\u001B[38;5;250m \u001B[39m\u001B[33m'\u001B[39m\u001B[33mFraud_Probability\u001B[39m\u001B[33m'\u001B[39m]\u001B[38;5;132;01m:\u001B[39;00m\u001B[33m.2f\u001B[39m\u001B[38;5;132;01m}\u001B[39;00m\u001B[33m)\u001B[39m\u001B[33m\"\u001B[39m)\n\u001B[32m     59\u001B[39m     plot_path = os.path.join(shap_folder, \u001B[33mf\u001B[39m\u001B[33m\"\u001B[39m\u001B[33mshap_barplot_\u001B[39m\u001B[38;5;132;01m{\u001B[39;00mi\u001B[38;5;132;01m}\u001B[39;00m\u001B[33m.png\u001B[39m\u001B[33m\"\u001B[39m)\n",
      "\u001B[36mFile \u001B[39m\u001B[32m~\\AppData\\Local\\Programs\\Python\\Python313\\Lib\\site-packages\\shap\\plots\\_bar.py:315\u001B[39m, in \u001B[36mbar\u001B[39m\u001B[34m(shap_values, max_display, order, clustering, clustering_cutoff, show_data, ax, show)\u001B[39m\n\u001B[32m    312\u001B[39m     ax.axhline(i + \u001B[32m1\u001B[39m, color=\u001B[33m\"\u001B[39m\u001B[33m#888888\u001B[39m\u001B[33m\"\u001B[39m, lw=\u001B[32m0.5\u001B[39m, dashes=(\u001B[32m1\u001B[39m, \u001B[32m5\u001B[39m), zorder=-\u001B[32m1\u001B[39m)\n\u001B[32m    314\u001B[39m \u001B[38;5;28;01mif\u001B[39;00m features \u001B[38;5;129;01mis\u001B[39;00m \u001B[38;5;129;01mnot\u001B[39;00m \u001B[38;5;28;01mNone\u001B[39;00m:\n\u001B[32m--> \u001B[39m\u001B[32m315\u001B[39m     features = \u001B[38;5;28;43mlist\u001B[39;49m\u001B[43m(\u001B[49m\u001B[43mfeatures\u001B[49m\u001B[43m)\u001B[49m\n\u001B[32m    317\u001B[39m     \u001B[38;5;66;03m# try and round off any trailing zeros after the decimal point in the feature values\u001B[39;00m\n\u001B[32m    318\u001B[39m     \u001B[38;5;28;01mfor\u001B[39;00m i \u001B[38;5;129;01min\u001B[39;00m \u001B[38;5;28mrange\u001B[39m(\u001B[38;5;28mlen\u001B[39m(features)):\n",
      "\u001B[31mTypeError\u001B[39m: 'numpy.float64' object is not iterable"
     ]
    },
    {
     "data": {
      "text/plain": [
       "<Figure size 800x250 with 1 Axes>"
      ],
      "image/png": "[encoded data removed]"
     },
     "metadata": {},
     "output_type": "display_data"
    }
   ],
   "execution_count": 10
  }
 ],
 "metadata": {},
 "nbformat": 4,
 "nbformat_minor": 5
}
